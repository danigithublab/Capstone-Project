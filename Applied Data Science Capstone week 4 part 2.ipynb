{
 "cells": [
  {
   "cell_type": "code",
   "execution_count": 1,
   "metadata": {},
   "outputs": [],
   "source": [
    "###Data description\n",
    "\n",
    "#Boroughs of London Data\n",
    "\n",
    "#Firstly, I need to look at what data are available online describing the boroughs of London. The Wikipedia page (\"List of London boroughs\", publicly available at https://en.wikipedia.org/wiki/List_of_London_boroughs) contains a table describing the 32 boroughs of London with their relative data about Local authority, Political control, Headquarters, Area (sq mt), Population (est 2013), geographical co-ordinates, and the number of the legend on the Wikipedia map. \n",
    "#I will use this table to determine the most populated boroughs by calculating the ratio between the Area (sq mt) and Population (est 2019). \n",
    "\n",
    "#Properties value data\n",
    "\n",
    "#In order to understand which is the average value of properties in the boroughs, I will use the table \"London property value\" publicly accessible from the government website (https://data.london.gov.uk/download/average-house-prices/b1b0079e-698c-4c0b-b8c7- aa6189590ca4/land-registry-house-prices-borough.csv). \n",
    "#The table contains information about area codes, name of the borough, the year, the measure (Mean, median, sales) and the Value. I will be focusing on mean Values from the year ending in December 2017. \n",
    "\n",
    "#Geographical and Venues Data \n",
    "\n",
    "#To get the geographical information of the borough I will use geolocator.geocode. I will then use foursquare to look at which boroughs have the highest number of restaurants and what are the top 5 trending venues. This will indicate the best borough where to open a luxury restaurant based on population, wealth, and trending venues. \n"
   ]
  },
  {
   "cell_type": "code",
   "execution_count": null,
   "metadata": {},
   "outputs": [],
   "source": []
  }
 ],
 "metadata": {
  "kernelspec": {
   "display_name": "Python",
   "language": "python",
   "name": "conda-env-python-py"
  },
  "language_info": {
   "codemirror_mode": {
    "name": "ipython",
    "version": 3
   },
   "file_extension": ".py",
   "mimetype": "text/x-python",
   "name": "python",
   "nbconvert_exporter": "python",
   "pygments_lexer": "ipython3",
   "version": "3.6.12"
  }
 },
 "nbformat": 4,
 "nbformat_minor": 4
}

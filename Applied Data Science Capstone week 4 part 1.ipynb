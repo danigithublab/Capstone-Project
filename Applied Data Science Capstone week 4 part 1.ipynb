{
 "cells": [
  {
   "cell_type": "markdown",
   "metadata": {},
   "source": [
    "1.\tDiscussion and Background of the Business Problem: \n",
    "Problem Statement: Prospects of a Luxury Restaurant, in the wealthiest boroughs of London. \n",
    "\n",
    "London is the capital and biggest city of England and the United Kingdom. It is one of the world's most important global cities and has been called the world's most powerful, most desirable, most influential, most visited, most expensive, sustainable, most investment-friendly, and most-popular-for-work city. London is definitely one of the best places to start up a new business. However, London is highly competitive and therefore, the need of a specific customer target for a restaurant it is really important. \n",
    "For this project I have hypothesized a customer who intends to open a luxury restaurant in a wealthy borough of London. As a Data Scientist, I will firstly assess which are the 10 most populated borough by calculating the ratio between the estimated population and the borough’s area. I will then assess the top 5 wealthiest and populated boroughs of London by looking at average properties value. Then, I will identify which are the ones have more restaurants and what are the top trending venues. This will indicate which borough is the most suitable to open a luxury restaurant where people tend to go out for eating and which ones are the ones with more competition. \n",
    "\n",
    "Target Audience \n",
    "\n",
    "1. Businesspeople who wants to invest or open a luxury restaurant in London. \n",
    "2. Freelancer who loves to have their own restaurant as a side business. This analysis will give an idea of how beneficial it is to open a restaurant and what are the pros and cons of this business.\n",
    "3. Budding Data Scientists, who want to implement some of the most used Exploratory Data Analysis techniques to obtain necessary data and analyze it. \n"
   ]
  },
  {
   "cell_type": "code",
   "execution_count": null,
   "metadata": {},
   "outputs": [],
   "source": []
  }
 ],
 "metadata": {
  "kernelspec": {
   "display_name": "Python",
   "language": "python",
   "name": "conda-env-python-py"
  },
  "language_info": {
   "codemirror_mode": {
    "name": "ipython",
    "version": 3
   },
   "file_extension": ".py",
   "mimetype": "text/x-python",
   "name": "python",
   "nbconvert_exporter": "python",
   "pygments_lexer": "ipython3",
   "version": "3.6.12"
  }
 },
 "nbformat": 4,
 "nbformat_minor": 4
}
